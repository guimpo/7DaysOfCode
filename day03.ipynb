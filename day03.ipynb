{
 "cells": [
  {
   "cell_type": "code",
   "execution_count": 1,
   "id": "731cf7f8-2799-48eb-8255-758df450e606",
   "metadata": {},
   "outputs": [],
   "source": [
    "import pandas as pd\n",
    "import numpy as np\n",
    "from sklearn.model_selection import train_test_split\n",
    "from sklearn import svm\n",
    "from sklearn.model_selection import cross_val_score\n",
    "from sklearn.model_selection import cross_validate\n",
    "from sklearn import tree"
   ]
  },
  {
   "cell_type": "code",
   "execution_count": 2,
   "id": "71b726b5-90de-4c18-9fe7-872c9a006c4f",
   "metadata": {},
   "outputs": [
    {
     "name": "stdout",
     "output_type": "stream",
     "text": [
      "zsh:1: no matches found: ydata-profiling[notebook]\n",
      "Enabling notebook extension jupyter-js-widgets/extension...\n",
      "      - Validating: \u001b[32mOK\u001b[0m\n"
     ]
    }
   ],
   "source": [
    "import sys\n",
    "!{sys.executable} -m pip install -U ydata-profiling[notebook]\n",
    "!jupyter nbextension enable --py widgetsnbextension"
   ]
  },
  {
   "cell_type": "code",
   "execution_count": 3,
   "id": "ac48fce6-55ac-4659-bd65-110675de431f",
   "metadata": {},
   "outputs": [],
   "source": [
    "df = pd.read_csv('archive/dataset.csv')"
   ]
  },
  {
   "cell_type": "code",
   "execution_count": 4,
   "id": "8d7fa449-a5da-4c30-88c8-ab7a111fdbe8",
   "metadata": {},
   "outputs": [],
   "source": [
    "origin_df = df"
   ]
  },
  {
   "cell_type": "code",
   "execution_count": 5,
   "id": "67f9a78f-65cb-47c5-98df-3f86b215ace0",
   "metadata": {},
   "outputs": [
    {
     "data": {
      "text/plain": [
       "0         73\n",
       "1         55\n",
       "2         57\n",
       "3         71\n",
       "4         82\n",
       "          ..\n",
       "113995    21\n",
       "113996    22\n",
       "113997    22\n",
       "113998    41\n",
       "113999    22\n",
       "Name: popularity, Length: 114000, dtype: int64"
      ]
     },
     "execution_count": 5,
     "metadata": {},
     "output_type": "execute_result"
    }
   ],
   "source": [
    "df['popularity']"
   ]
  },
  {
   "cell_type": "code",
   "execution_count": 6,
   "id": "ea8952cd-6969-4195-986a-300ad0d1313d",
   "metadata": {},
   "outputs": [],
   "source": [
    "df['popularity_bin'] = np.where(df['popularity'] > 70, 1, 0)"
   ]
  },
  {
   "cell_type": "code",
   "execution_count": 7,
   "id": "4f826d92-eff2-4de6-ad09-774c7ddb088b",
   "metadata": {},
   "outputs": [
    {
     "data": {
      "text/plain": [
       "0         1\n",
       "1         0\n",
       "2         0\n",
       "3         1\n",
       "4         1\n",
       "         ..\n",
       "113995    0\n",
       "113996    0\n",
       "113997    0\n",
       "113998    0\n",
       "113999    0\n",
       "Name: popularity_bin, Length: 114000, dtype: int64"
      ]
     },
     "execution_count": 7,
     "metadata": {},
     "output_type": "execute_result"
    }
   ],
   "source": [
    "df['popularity_bin']"
   ]
  },
  {
   "cell_type": "code",
   "execution_count": 8,
   "id": "ce903b19-6a1d-4777-9ba2-edff8c5496da",
   "metadata": {},
   "outputs": [
    {
     "data": {
      "text/plain": [
       "0         1\n",
       "1         0\n",
       "2         0\n",
       "3         1\n",
       "4         1\n",
       "         ..\n",
       "113995    0\n",
       "113996    0\n",
       "113997    0\n",
       "113998    0\n",
       "113999    0\n",
       "Name: popularity_bin, Length: 114000, dtype: int64"
      ]
     },
     "execution_count": 8,
     "metadata": {},
     "output_type": "execute_result"
    }
   ],
   "source": [
    "df['popularity_bin']"
   ]
  },
  {
   "cell_type": "code",
   "execution_count": 9,
   "id": "1e7bd25e-2f52-4bd0-b741-2329c19d9eea",
   "metadata": {},
   "outputs": [
    {
     "data": {
      "text/html": [
       "<div>\n",
       "<style scoped>\n",
       "    .dataframe tbody tr th:only-of-type {\n",
       "        vertical-align: middle;\n",
       "    }\n",
       "\n",
       "    .dataframe tbody tr th {\n",
       "        vertical-align: top;\n",
       "    }\n",
       "\n",
       "    .dataframe thead th {\n",
       "        text-align: right;\n",
       "    }\n",
       "</style>\n",
       "<table border=\"1\" class=\"dataframe\">\n",
       "  <thead>\n",
       "    <tr style=\"text-align: right;\">\n",
       "      <th></th>\n",
       "      <th>Unnamed: 0</th>\n",
       "      <th>track_id</th>\n",
       "      <th>artists</th>\n",
       "      <th>album_name</th>\n",
       "      <th>track_name</th>\n",
       "      <th>popularity</th>\n",
       "      <th>duration_ms</th>\n",
       "      <th>explicit</th>\n",
       "      <th>danceability</th>\n",
       "      <th>energy</th>\n",
       "      <th>...</th>\n",
       "      <th>mode</th>\n",
       "      <th>speechiness</th>\n",
       "      <th>acousticness</th>\n",
       "      <th>instrumentalness</th>\n",
       "      <th>liveness</th>\n",
       "      <th>valence</th>\n",
       "      <th>tempo</th>\n",
       "      <th>time_signature</th>\n",
       "      <th>track_genre</th>\n",
       "      <th>popularity_bin</th>\n",
       "    </tr>\n",
       "  </thead>\n",
       "  <tbody>\n",
       "    <tr>\n",
       "      <th>0</th>\n",
       "      <td>0</td>\n",
       "      <td>5SuOikwiRyPMVoIQDJUgSV</td>\n",
       "      <td>Gen Hoshino</td>\n",
       "      <td>Comedy</td>\n",
       "      <td>Comedy</td>\n",
       "      <td>73</td>\n",
       "      <td>230666</td>\n",
       "      <td>False</td>\n",
       "      <td>0.676</td>\n",
       "      <td>0.4610</td>\n",
       "      <td>...</td>\n",
       "      <td>0</td>\n",
       "      <td>0.1430</td>\n",
       "      <td>0.0322</td>\n",
       "      <td>0.000001</td>\n",
       "      <td>0.3580</td>\n",
       "      <td>0.715</td>\n",
       "      <td>87.917</td>\n",
       "      <td>4</td>\n",
       "      <td>acoustic</td>\n",
       "      <td>1</td>\n",
       "    </tr>\n",
       "    <tr>\n",
       "      <th>1</th>\n",
       "      <td>1</td>\n",
       "      <td>4qPNDBW1i3p13qLCt0Ki3A</td>\n",
       "      <td>Ben Woodward</td>\n",
       "      <td>Ghost (Acoustic)</td>\n",
       "      <td>Ghost - Acoustic</td>\n",
       "      <td>55</td>\n",
       "      <td>149610</td>\n",
       "      <td>False</td>\n",
       "      <td>0.420</td>\n",
       "      <td>0.1660</td>\n",
       "      <td>...</td>\n",
       "      <td>1</td>\n",
       "      <td>0.0763</td>\n",
       "      <td>0.9240</td>\n",
       "      <td>0.000006</td>\n",
       "      <td>0.1010</td>\n",
       "      <td>0.267</td>\n",
       "      <td>77.489</td>\n",
       "      <td>4</td>\n",
       "      <td>acoustic</td>\n",
       "      <td>0</td>\n",
       "    </tr>\n",
       "    <tr>\n",
       "      <th>2</th>\n",
       "      <td>2</td>\n",
       "      <td>1iJBSr7s7jYXzM8EGcbK5b</td>\n",
       "      <td>Ingrid Michaelson;ZAYN</td>\n",
       "      <td>To Begin Again</td>\n",
       "      <td>To Begin Again</td>\n",
       "      <td>57</td>\n",
       "      <td>210826</td>\n",
       "      <td>False</td>\n",
       "      <td>0.438</td>\n",
       "      <td>0.3590</td>\n",
       "      <td>...</td>\n",
       "      <td>1</td>\n",
       "      <td>0.0557</td>\n",
       "      <td>0.2100</td>\n",
       "      <td>0.000000</td>\n",
       "      <td>0.1170</td>\n",
       "      <td>0.120</td>\n",
       "      <td>76.332</td>\n",
       "      <td>4</td>\n",
       "      <td>acoustic</td>\n",
       "      <td>0</td>\n",
       "    </tr>\n",
       "    <tr>\n",
       "      <th>3</th>\n",
       "      <td>3</td>\n",
       "      <td>6lfxq3CG4xtTiEg7opyCyx</td>\n",
       "      <td>Kina Grannis</td>\n",
       "      <td>Crazy Rich Asians (Original Motion Picture Sou...</td>\n",
       "      <td>Can't Help Falling In Love</td>\n",
       "      <td>71</td>\n",
       "      <td>201933</td>\n",
       "      <td>False</td>\n",
       "      <td>0.266</td>\n",
       "      <td>0.0596</td>\n",
       "      <td>...</td>\n",
       "      <td>1</td>\n",
       "      <td>0.0363</td>\n",
       "      <td>0.9050</td>\n",
       "      <td>0.000071</td>\n",
       "      <td>0.1320</td>\n",
       "      <td>0.143</td>\n",
       "      <td>181.740</td>\n",
       "      <td>3</td>\n",
       "      <td>acoustic</td>\n",
       "      <td>1</td>\n",
       "    </tr>\n",
       "    <tr>\n",
       "      <th>4</th>\n",
       "      <td>4</td>\n",
       "      <td>5vjLSffimiIP26QG5WcN2K</td>\n",
       "      <td>Chord Overstreet</td>\n",
       "      <td>Hold On</td>\n",
       "      <td>Hold On</td>\n",
       "      <td>82</td>\n",
       "      <td>198853</td>\n",
       "      <td>False</td>\n",
       "      <td>0.618</td>\n",
       "      <td>0.4430</td>\n",
       "      <td>...</td>\n",
       "      <td>1</td>\n",
       "      <td>0.0526</td>\n",
       "      <td>0.4690</td>\n",
       "      <td>0.000000</td>\n",
       "      <td>0.0829</td>\n",
       "      <td>0.167</td>\n",
       "      <td>119.949</td>\n",
       "      <td>4</td>\n",
       "      <td>acoustic</td>\n",
       "      <td>1</td>\n",
       "    </tr>\n",
       "  </tbody>\n",
       "</table>\n",
       "<p>5 rows × 22 columns</p>\n",
       "</div>"
      ],
      "text/plain": [
       "   Unnamed: 0                track_id                 artists  \\\n",
       "0           0  5SuOikwiRyPMVoIQDJUgSV             Gen Hoshino   \n",
       "1           1  4qPNDBW1i3p13qLCt0Ki3A            Ben Woodward   \n",
       "2           2  1iJBSr7s7jYXzM8EGcbK5b  Ingrid Michaelson;ZAYN   \n",
       "3           3  6lfxq3CG4xtTiEg7opyCyx            Kina Grannis   \n",
       "4           4  5vjLSffimiIP26QG5WcN2K        Chord Overstreet   \n",
       "\n",
       "                                          album_name  \\\n",
       "0                                             Comedy   \n",
       "1                                   Ghost (Acoustic)   \n",
       "2                                     To Begin Again   \n",
       "3  Crazy Rich Asians (Original Motion Picture Sou...   \n",
       "4                                            Hold On   \n",
       "\n",
       "                   track_name  popularity  duration_ms  explicit  \\\n",
       "0                      Comedy          73       230666     False   \n",
       "1            Ghost - Acoustic          55       149610     False   \n",
       "2              To Begin Again          57       210826     False   \n",
       "3  Can't Help Falling In Love          71       201933     False   \n",
       "4                     Hold On          82       198853     False   \n",
       "\n",
       "   danceability  energy  ...  mode  speechiness  acousticness  \\\n",
       "0         0.676  0.4610  ...     0       0.1430        0.0322   \n",
       "1         0.420  0.1660  ...     1       0.0763        0.9240   \n",
       "2         0.438  0.3590  ...     1       0.0557        0.2100   \n",
       "3         0.266  0.0596  ...     1       0.0363        0.9050   \n",
       "4         0.618  0.4430  ...     1       0.0526        0.4690   \n",
       "\n",
       "   instrumentalness  liveness  valence    tempo  time_signature  track_genre  \\\n",
       "0          0.000001    0.3580    0.715   87.917               4     acoustic   \n",
       "1          0.000006    0.1010    0.267   77.489               4     acoustic   \n",
       "2          0.000000    0.1170    0.120   76.332               4     acoustic   \n",
       "3          0.000071    0.1320    0.143  181.740               3     acoustic   \n",
       "4          0.000000    0.0829    0.167  119.949               4     acoustic   \n",
       "\n",
       "   popularity_bin  \n",
       "0               1  \n",
       "1               0  \n",
       "2               0  \n",
       "3               1  \n",
       "4               1  \n",
       "\n",
       "[5 rows x 22 columns]"
      ]
     },
     "execution_count": 9,
     "metadata": {},
     "output_type": "execute_result"
    }
   ],
   "source": [
    "df.head()"
   ]
  },
  {
   "cell_type": "code",
   "execution_count": 10,
   "id": "af3e6360-63a8-4af4-b10c-88a72d817747",
   "metadata": {},
   "outputs": [
    {
     "data": {
      "text/plain": [
       "['Unnamed: 0',\n",
       " 'track_id',\n",
       " 'artists',\n",
       " 'album_name',\n",
       " 'track_name',\n",
       " 'duration_ms',\n",
       " 'explicit',\n",
       " 'danceability',\n",
       " 'energy',\n",
       " 'key',\n",
       " 'loudness',\n",
       " 'mode',\n",
       " 'speechiness',\n",
       " 'acousticness',\n",
       " 'instrumentalness',\n",
       " 'liveness',\n",
       " 'valence',\n",
       " 'tempo',\n",
       " 'time_signature',\n",
       " 'track_genre']"
      ]
     },
     "execution_count": 10,
     "metadata": {},
     "output_type": "execute_result"
    }
   ],
   "source": [
    "headers_list = df.columns.values.tolist()\n",
    "headers_list = [i for i in headers_list if i != 'popularity_bin']\n",
    "headers_list = [i for i in headers_list if i != 'popularity']\n",
    "headers_list"
   ]
  },
  {
   "cell_type": "code",
   "execution_count": 11,
   "id": "e3508e89-daf4-4aa4-a823-bcdcb012b755",
   "metadata": {},
   "outputs": [],
   "source": [
    "X = df[headers_list]\n",
    "y = df[['popularity_bin']]"
   ]
  },
  {
   "cell_type": "code",
   "execution_count": 12,
   "id": "034f8490-edb9-4b02-b839-2c1d66b11eea",
   "metadata": {},
   "outputs": [],
   "source": [
    "# Dividindo o conjunto em 80% Treino e 20% Teste.\n",
    "# O parâmetro random_state = 327 define que sempre será dividido da mesma forma o conjunto.\n",
    "X_train, X_test, y_train, y_test = train_test_split(X, y, test_size=0.2, random_state = 327)"
   ]
  },
  {
   "cell_type": "code",
   "execution_count": 13,
   "id": "77a20780-4ff6-469c-9072-8ada7a7454b9",
   "metadata": {},
   "outputs": [
    {
     "ename": "ValueError",
     "evalue": "\nAll the 10 fits failed.\nIt is very likely that your model is misconfigured.\nYou can try to debug the error by setting error_score='raise'.\n\nBelow are more details about the failures:\n--------------------------------------------------------------------------------\n1 fits failed with the following error:\nTraceback (most recent call last):\n  File \"/home/paulo/.pyenv/versions/anaconda3-2023.03/lib/python3.10/site-packages/sklearn/model_selection/_validation.py\", line 686, in _fit_and_score\n    estimator.fit(X_train, y_train, **fit_params)\n  File \"/home/paulo/.pyenv/versions/anaconda3-2023.03/lib/python3.10/site-packages/sklearn/tree/_classes.py\", line 889, in fit\n    super().fit(\n  File \"/home/paulo/.pyenv/versions/anaconda3-2023.03/lib/python3.10/site-packages/sklearn/tree/_classes.py\", line 186, in fit\n    X, y = self._validate_data(\n  File \"/home/paulo/.pyenv/versions/anaconda3-2023.03/lib/python3.10/site-packages/sklearn/base.py\", line 560, in _validate_data\n    X = check_array(X, input_name=\"X\", **check_X_params)\n  File \"/home/paulo/.pyenv/versions/anaconda3-2023.03/lib/python3.10/site-packages/sklearn/utils/validation.py\", line 810, in check_array\n    array = array.astype(new_dtype)\n  File \"/home/paulo/.pyenv/versions/anaconda3-2023.03/lib/python3.10/site-packages/pandas/core/generic.py\", line 6240, in astype\n    new_data = self._mgr.astype(dtype=dtype, copy=copy, errors=errors)\n  File \"/home/paulo/.pyenv/versions/anaconda3-2023.03/lib/python3.10/site-packages/pandas/core/internals/managers.py\", line 448, in astype\n    return self.apply(\"astype\", dtype=dtype, copy=copy, errors=errors)\n  File \"/home/paulo/.pyenv/versions/anaconda3-2023.03/lib/python3.10/site-packages/pandas/core/internals/managers.py\", line 352, in apply\n    applied = getattr(b, f)(**kwargs)\n  File \"/home/paulo/.pyenv/versions/anaconda3-2023.03/lib/python3.10/site-packages/pandas/core/internals/blocks.py\", line 526, in astype\n    new_values = astype_array_safe(values, dtype, copy=copy, errors=errors)\n  File \"/home/paulo/.pyenv/versions/anaconda3-2023.03/lib/python3.10/site-packages/pandas/core/dtypes/astype.py\", line 299, in astype_array_safe\n    new_values = astype_array(values, dtype, copy=copy)\n  File \"/home/paulo/.pyenv/versions/anaconda3-2023.03/lib/python3.10/site-packages/pandas/core/dtypes/astype.py\", line 230, in astype_array\n    values = astype_nansafe(values, dtype, copy=copy)\n  File \"/home/paulo/.pyenv/versions/anaconda3-2023.03/lib/python3.10/site-packages/pandas/core/dtypes/astype.py\", line 170, in astype_nansafe\n    return arr.astype(dtype, copy=True)\nValueError: could not convert string to float: '5dRQUolXAVX3BbCiIxmSsf'\n\n--------------------------------------------------------------------------------\n9 fits failed with the following error:\nTraceback (most recent call last):\n  File \"/home/paulo/.pyenv/versions/anaconda3-2023.03/lib/python3.10/site-packages/sklearn/model_selection/_validation.py\", line 686, in _fit_and_score\n    estimator.fit(X_train, y_train, **fit_params)\n  File \"/home/paulo/.pyenv/versions/anaconda3-2023.03/lib/python3.10/site-packages/sklearn/tree/_classes.py\", line 889, in fit\n    super().fit(\n  File \"/home/paulo/.pyenv/versions/anaconda3-2023.03/lib/python3.10/site-packages/sklearn/tree/_classes.py\", line 186, in fit\n    X, y = self._validate_data(\n  File \"/home/paulo/.pyenv/versions/anaconda3-2023.03/lib/python3.10/site-packages/sklearn/base.py\", line 560, in _validate_data\n    X = check_array(X, input_name=\"X\", **check_X_params)\n  File \"/home/paulo/.pyenv/versions/anaconda3-2023.03/lib/python3.10/site-packages/sklearn/utils/validation.py\", line 810, in check_array\n    array = array.astype(new_dtype)\n  File \"/home/paulo/.pyenv/versions/anaconda3-2023.03/lib/python3.10/site-packages/pandas/core/generic.py\", line 6240, in astype\n    new_data = self._mgr.astype(dtype=dtype, copy=copy, errors=errors)\n  File \"/home/paulo/.pyenv/versions/anaconda3-2023.03/lib/python3.10/site-packages/pandas/core/internals/managers.py\", line 448, in astype\n    return self.apply(\"astype\", dtype=dtype, copy=copy, errors=errors)\n  File \"/home/paulo/.pyenv/versions/anaconda3-2023.03/lib/python3.10/site-packages/pandas/core/internals/managers.py\", line 352, in apply\n    applied = getattr(b, f)(**kwargs)\n  File \"/home/paulo/.pyenv/versions/anaconda3-2023.03/lib/python3.10/site-packages/pandas/core/internals/blocks.py\", line 526, in astype\n    new_values = astype_array_safe(values, dtype, copy=copy, errors=errors)\n  File \"/home/paulo/.pyenv/versions/anaconda3-2023.03/lib/python3.10/site-packages/pandas/core/dtypes/astype.py\", line 299, in astype_array_safe\n    new_values = astype_array(values, dtype, copy=copy)\n  File \"/home/paulo/.pyenv/versions/anaconda3-2023.03/lib/python3.10/site-packages/pandas/core/dtypes/astype.py\", line 230, in astype_array\n    values = astype_nansafe(values, dtype, copy=copy)\n  File \"/home/paulo/.pyenv/versions/anaconda3-2023.03/lib/python3.10/site-packages/pandas/core/dtypes/astype.py\", line 170, in astype_nansafe\n    return arr.astype(dtype, copy=True)\nValueError: could not convert string to float: '5wEq97Dc7x5k2tJz3DlJFO'\n",
     "output_type": "error",
     "traceback": [
      "\u001b[0;31m---------------------------------------------------------------------------\u001b[0m",
      "\u001b[0;31mValueError\u001b[0m                                Traceback (most recent call last)",
      "Cell \u001b[0;32mIn[13], line 2\u001b[0m\n\u001b[1;32m      1\u001b[0m decisionTree \u001b[38;5;241m=\u001b[39m tree\u001b[38;5;241m.\u001b[39mDecisionTreeClassifier()\n\u001b[0;32m----> 2\u001b[0m cv_results \u001b[38;5;241m=\u001b[39m \u001b[43mcross_validate\u001b[49m\u001b[43m(\u001b[49m\u001b[43mdecisionTree\u001b[49m\u001b[43m,\u001b[49m\u001b[43m \u001b[49m\u001b[43mX_train\u001b[49m\u001b[43m,\u001b[49m\u001b[43m \u001b[49m\u001b[43my_train\u001b[49m\u001b[43m,\u001b[49m\u001b[43m \u001b[49m\u001b[43mcv\u001b[49m\u001b[38;5;241;43m=\u001b[39;49m\u001b[38;5;241;43m10\u001b[39;49m\u001b[43m,\u001b[49m\u001b[43m \u001b[49m\u001b[43mreturn_estimator\u001b[49m\u001b[38;5;241;43m=\u001b[39;49m\u001b[38;5;28;43;01mTrue\u001b[39;49;00m\u001b[43m)\u001b[49m\n",
      "File \u001b[0;32m~/.pyenv/versions/anaconda3-2023.03/lib/python3.10/site-packages/sklearn/model_selection/_validation.py:285\u001b[0m, in \u001b[0;36mcross_validate\u001b[0;34m(estimator, X, y, groups, scoring, cv, n_jobs, verbose, fit_params, pre_dispatch, return_train_score, return_estimator, error_score)\u001b[0m\n\u001b[1;32m    265\u001b[0m parallel \u001b[38;5;241m=\u001b[39m Parallel(n_jobs\u001b[38;5;241m=\u001b[39mn_jobs, verbose\u001b[38;5;241m=\u001b[39mverbose, pre_dispatch\u001b[38;5;241m=\u001b[39mpre_dispatch)\n\u001b[1;32m    266\u001b[0m results \u001b[38;5;241m=\u001b[39m parallel(\n\u001b[1;32m    267\u001b[0m     delayed(_fit_and_score)(\n\u001b[1;32m    268\u001b[0m         clone(estimator),\n\u001b[0;32m   (...)\u001b[0m\n\u001b[1;32m    282\u001b[0m     \u001b[38;5;28;01mfor\u001b[39;00m train, test \u001b[38;5;129;01min\u001b[39;00m cv\u001b[38;5;241m.\u001b[39msplit(X, y, groups)\n\u001b[1;32m    283\u001b[0m )\n\u001b[0;32m--> 285\u001b[0m \u001b[43m_warn_or_raise_about_fit_failures\u001b[49m\u001b[43m(\u001b[49m\u001b[43mresults\u001b[49m\u001b[43m,\u001b[49m\u001b[43m \u001b[49m\u001b[43merror_score\u001b[49m\u001b[43m)\u001b[49m\n\u001b[1;32m    287\u001b[0m \u001b[38;5;66;03m# For callabe scoring, the return type is only know after calling. If the\u001b[39;00m\n\u001b[1;32m    288\u001b[0m \u001b[38;5;66;03m# return type is a dictionary, the error scores can now be inserted with\u001b[39;00m\n\u001b[1;32m    289\u001b[0m \u001b[38;5;66;03m# the correct key.\u001b[39;00m\n\u001b[1;32m    290\u001b[0m \u001b[38;5;28;01mif\u001b[39;00m callable(scoring):\n",
      "File \u001b[0;32m~/.pyenv/versions/anaconda3-2023.03/lib/python3.10/site-packages/sklearn/model_selection/_validation.py:367\u001b[0m, in \u001b[0;36m_warn_or_raise_about_fit_failures\u001b[0;34m(results, error_score)\u001b[0m\n\u001b[1;32m    360\u001b[0m \u001b[38;5;28;01mif\u001b[39;00m num_failed_fits \u001b[38;5;241m==\u001b[39m num_fits:\n\u001b[1;32m    361\u001b[0m     all_fits_failed_message \u001b[38;5;241m=\u001b[39m (\n\u001b[1;32m    362\u001b[0m         \u001b[38;5;124mf\u001b[39m\u001b[38;5;124m\"\u001b[39m\u001b[38;5;130;01m\\n\u001b[39;00m\u001b[38;5;124mAll the \u001b[39m\u001b[38;5;132;01m{\u001b[39;00mnum_fits\u001b[38;5;132;01m}\u001b[39;00m\u001b[38;5;124m fits failed.\u001b[39m\u001b[38;5;130;01m\\n\u001b[39;00m\u001b[38;5;124m\"\u001b[39m\n\u001b[1;32m    363\u001b[0m         \u001b[38;5;124m\"\u001b[39m\u001b[38;5;124mIt is very likely that your model is misconfigured.\u001b[39m\u001b[38;5;130;01m\\n\u001b[39;00m\u001b[38;5;124m\"\u001b[39m\n\u001b[1;32m    364\u001b[0m         \u001b[38;5;124m\"\u001b[39m\u001b[38;5;124mYou can try to debug the error by setting error_score=\u001b[39m\u001b[38;5;124m'\u001b[39m\u001b[38;5;124mraise\u001b[39m\u001b[38;5;124m'\u001b[39m\u001b[38;5;124m.\u001b[39m\u001b[38;5;130;01m\\n\u001b[39;00m\u001b[38;5;130;01m\\n\u001b[39;00m\u001b[38;5;124m\"\u001b[39m\n\u001b[1;32m    365\u001b[0m         \u001b[38;5;124mf\u001b[39m\u001b[38;5;124m\"\u001b[39m\u001b[38;5;124mBelow are more details about the failures:\u001b[39m\u001b[38;5;130;01m\\n\u001b[39;00m\u001b[38;5;132;01m{\u001b[39;00mfit_errors_summary\u001b[38;5;132;01m}\u001b[39;00m\u001b[38;5;124m\"\u001b[39m\n\u001b[1;32m    366\u001b[0m     )\n\u001b[0;32m--> 367\u001b[0m     \u001b[38;5;28;01mraise\u001b[39;00m \u001b[38;5;167;01mValueError\u001b[39;00m(all_fits_failed_message)\n\u001b[1;32m    369\u001b[0m \u001b[38;5;28;01melse\u001b[39;00m:\n\u001b[1;32m    370\u001b[0m     some_fits_failed_message \u001b[38;5;241m=\u001b[39m (\n\u001b[1;32m    371\u001b[0m         \u001b[38;5;124mf\u001b[39m\u001b[38;5;124m\"\u001b[39m\u001b[38;5;130;01m\\n\u001b[39;00m\u001b[38;5;132;01m{\u001b[39;00mnum_failed_fits\u001b[38;5;132;01m}\u001b[39;00m\u001b[38;5;124m fits failed out of a total of \u001b[39m\u001b[38;5;132;01m{\u001b[39;00mnum_fits\u001b[38;5;132;01m}\u001b[39;00m\u001b[38;5;124m.\u001b[39m\u001b[38;5;130;01m\\n\u001b[39;00m\u001b[38;5;124m\"\u001b[39m\n\u001b[1;32m    372\u001b[0m         \u001b[38;5;124m\"\u001b[39m\u001b[38;5;124mThe score on these train-test partitions for these parameters\u001b[39m\u001b[38;5;124m\"\u001b[39m\n\u001b[0;32m   (...)\u001b[0m\n\u001b[1;32m    376\u001b[0m         \u001b[38;5;124mf\u001b[39m\u001b[38;5;124m\"\u001b[39m\u001b[38;5;124mBelow are more details about the failures:\u001b[39m\u001b[38;5;130;01m\\n\u001b[39;00m\u001b[38;5;132;01m{\u001b[39;00mfit_errors_summary\u001b[38;5;132;01m}\u001b[39;00m\u001b[38;5;124m\"\u001b[39m\n\u001b[1;32m    377\u001b[0m     )\n",
      "\u001b[0;31mValueError\u001b[0m: \nAll the 10 fits failed.\nIt is very likely that your model is misconfigured.\nYou can try to debug the error by setting error_score='raise'.\n\nBelow are more details about the failures:\n--------------------------------------------------------------------------------\n1 fits failed with the following error:\nTraceback (most recent call last):\n  File \"/home/paulo/.pyenv/versions/anaconda3-2023.03/lib/python3.10/site-packages/sklearn/model_selection/_validation.py\", line 686, in _fit_and_score\n    estimator.fit(X_train, y_train, **fit_params)\n  File \"/home/paulo/.pyenv/versions/anaconda3-2023.03/lib/python3.10/site-packages/sklearn/tree/_classes.py\", line 889, in fit\n    super().fit(\n  File \"/home/paulo/.pyenv/versions/anaconda3-2023.03/lib/python3.10/site-packages/sklearn/tree/_classes.py\", line 186, in fit\n    X, y = self._validate_data(\n  File \"/home/paulo/.pyenv/versions/anaconda3-2023.03/lib/python3.10/site-packages/sklearn/base.py\", line 560, in _validate_data\n    X = check_array(X, input_name=\"X\", **check_X_params)\n  File \"/home/paulo/.pyenv/versions/anaconda3-2023.03/lib/python3.10/site-packages/sklearn/utils/validation.py\", line 810, in check_array\n    array = array.astype(new_dtype)\n  File \"/home/paulo/.pyenv/versions/anaconda3-2023.03/lib/python3.10/site-packages/pandas/core/generic.py\", line 6240, in astype\n    new_data = self._mgr.astype(dtype=dtype, copy=copy, errors=errors)\n  File \"/home/paulo/.pyenv/versions/anaconda3-2023.03/lib/python3.10/site-packages/pandas/core/internals/managers.py\", line 448, in astype\n    return self.apply(\"astype\", dtype=dtype, copy=copy, errors=errors)\n  File \"/home/paulo/.pyenv/versions/anaconda3-2023.03/lib/python3.10/site-packages/pandas/core/internals/managers.py\", line 352, in apply\n    applied = getattr(b, f)(**kwargs)\n  File \"/home/paulo/.pyenv/versions/anaconda3-2023.03/lib/python3.10/site-packages/pandas/core/internals/blocks.py\", line 526, in astype\n    new_values = astype_array_safe(values, dtype, copy=copy, errors=errors)\n  File \"/home/paulo/.pyenv/versions/anaconda3-2023.03/lib/python3.10/site-packages/pandas/core/dtypes/astype.py\", line 299, in astype_array_safe\n    new_values = astype_array(values, dtype, copy=copy)\n  File \"/home/paulo/.pyenv/versions/anaconda3-2023.03/lib/python3.10/site-packages/pandas/core/dtypes/astype.py\", line 230, in astype_array\n    values = astype_nansafe(values, dtype, copy=copy)\n  File \"/home/paulo/.pyenv/versions/anaconda3-2023.03/lib/python3.10/site-packages/pandas/core/dtypes/astype.py\", line 170, in astype_nansafe\n    return arr.astype(dtype, copy=True)\nValueError: could not convert string to float: '5dRQUolXAVX3BbCiIxmSsf'\n\n--------------------------------------------------------------------------------\n9 fits failed with the following error:\nTraceback (most recent call last):\n  File \"/home/paulo/.pyenv/versions/anaconda3-2023.03/lib/python3.10/site-packages/sklearn/model_selection/_validation.py\", line 686, in _fit_and_score\n    estimator.fit(X_train, y_train, **fit_params)\n  File \"/home/paulo/.pyenv/versions/anaconda3-2023.03/lib/python3.10/site-packages/sklearn/tree/_classes.py\", line 889, in fit\n    super().fit(\n  File \"/home/paulo/.pyenv/versions/anaconda3-2023.03/lib/python3.10/site-packages/sklearn/tree/_classes.py\", line 186, in fit\n    X, y = self._validate_data(\n  File \"/home/paulo/.pyenv/versions/anaconda3-2023.03/lib/python3.10/site-packages/sklearn/base.py\", line 560, in _validate_data\n    X = check_array(X, input_name=\"X\", **check_X_params)\n  File \"/home/paulo/.pyenv/versions/anaconda3-2023.03/lib/python3.10/site-packages/sklearn/utils/validation.py\", line 810, in check_array\n    array = array.astype(new_dtype)\n  File \"/home/paulo/.pyenv/versions/anaconda3-2023.03/lib/python3.10/site-packages/pandas/core/generic.py\", line 6240, in astype\n    new_data = self._mgr.astype(dtype=dtype, copy=copy, errors=errors)\n  File \"/home/paulo/.pyenv/versions/anaconda3-2023.03/lib/python3.10/site-packages/pandas/core/internals/managers.py\", line 448, in astype\n    return self.apply(\"astype\", dtype=dtype, copy=copy, errors=errors)\n  File \"/home/paulo/.pyenv/versions/anaconda3-2023.03/lib/python3.10/site-packages/pandas/core/internals/managers.py\", line 352, in apply\n    applied = getattr(b, f)(**kwargs)\n  File \"/home/paulo/.pyenv/versions/anaconda3-2023.03/lib/python3.10/site-packages/pandas/core/internals/blocks.py\", line 526, in astype\n    new_values = astype_array_safe(values, dtype, copy=copy, errors=errors)\n  File \"/home/paulo/.pyenv/versions/anaconda3-2023.03/lib/python3.10/site-packages/pandas/core/dtypes/astype.py\", line 299, in astype_array_safe\n    new_values = astype_array(values, dtype, copy=copy)\n  File \"/home/paulo/.pyenv/versions/anaconda3-2023.03/lib/python3.10/site-packages/pandas/core/dtypes/astype.py\", line 230, in astype_array\n    values = astype_nansafe(values, dtype, copy=copy)\n  File \"/home/paulo/.pyenv/versions/anaconda3-2023.03/lib/python3.10/site-packages/pandas/core/dtypes/astype.py\", line 170, in astype_nansafe\n    return arr.astype(dtype, copy=True)\nValueError: could not convert string to float: '5wEq97Dc7x5k2tJz3DlJFO'\n"
     ]
    }
   ],
   "source": [
    "decisionTree = tree.DecisionTreeClassifier()\n",
    "cv_results = cross_validate(decisionTree, X_train, y_train, cv=10, return_estimator=True)"
   ]
  },
  {
   "cell_type": "code",
   "execution_count": null,
   "id": "4836a2b0-6c0d-44b3-a572-531bf9f4fe4e",
   "metadata": {},
   "outputs": [],
   "source": []
  }
 ],
 "metadata": {
  "kernelspec": {
   "display_name": "Python 3 (ipykernel)",
   "language": "python",
   "name": "python3"
  },
  "language_info": {
   "codemirror_mode": {
    "name": "ipython",
    "version": 3
   },
   "file_extension": ".py",
   "mimetype": "text/x-python",
   "name": "python",
   "nbconvert_exporter": "python",
   "pygments_lexer": "ipython3",
   "version": "3.10.9"
  }
 },
 "nbformat": 4,
 "nbformat_minor": 5
}
